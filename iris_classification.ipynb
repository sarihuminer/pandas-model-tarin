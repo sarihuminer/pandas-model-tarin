{
  "nbformat": 4,
  "nbformat_minor": 0,
  "metadata": {
    "colab": {
      "name": "iris_classification.ipynb",
      "version": "0.3.2",
      "provenance": [],
      "collapsed_sections": []
    },
    "kernelspec": {
      "name": "python3",
      "display_name": "Python 3"
    }
  },
  "cells": [
    {
      "cell_type": "code",
      "metadata": {
        "id": "_Yfx_8ydEN-q",
        "colab_type": "code",
        "outputId": "a8c7a814-ad17-4a48-fbd2-98f7ae45cbd7",
        "colab": {
          "base_uri": "https://localhost:8080/",
          "height": 34
        }
      },
      "source": [
        "import pandas as pd\n",
        "import numpy as np\n",
        "\n",
        "import seaborn as sns\n",
        "\n",
        "import keras\n",
        "from keras.models import Sequential\n",
        "from keras.layers import Dense\n",
        "from keras.optimizers import Adam"
      ],
      "execution_count": 1,
      "outputs": [
        {
          "output_type": "stream",
          "text": [
            "Using TensorFlow backend.\n"
          ],
          "name": "stderr"
        }
      ]
    },
    {
      "cell_type": "code",
      "metadata": {
        "id": "phy3rzGhFRvT",
        "colab_type": "code",
        "outputId": "007f3702-81a8-4609-dc6b-d4c6544310e2",
        "colab": {
          "base_uri": "https://localhost:8080/",
          "height": 1882
        }
      },
      "source": [
        "dataset = sns.load_dataset(\"iris\")\n",
        "dataset"
      ],
      "execution_count": 2,
      "outputs": [
        {
          "output_type": "execute_result",
          "data": {
            "text/html": [
              "<div>\n",
              "<style scoped>\n",
              "    .dataframe tbody tr th:only-of-type {\n",
              "        vertical-align: middle;\n",
              "    }\n",
              "\n",
              "    .dataframe tbody tr th {\n",
              "        vertical-align: top;\n",
              "    }\n",
              "\n",
              "    .dataframe thead th {\n",
              "        text-align: right;\n",
              "    }\n",
              "</style>\n",
              "<table border=\"1\" class=\"dataframe\">\n",
              "  <thead>\n",
              "    <tr style=\"text-align: right;\">\n",
              "      <th></th>\n",
              "      <th>sepal_length</th>\n",
              "      <th>sepal_width</th>\n",
              "      <th>petal_length</th>\n",
              "      <th>petal_width</th>\n",
              "      <th>species</th>\n",
              "    </tr>\n",
              "  </thead>\n",
              "  <tbody>\n",
              "    <tr>\n",
              "      <th>0</th>\n",
              "      <td>5.1</td>\n",
              "      <td>3.5</td>\n",
              "      <td>1.4</td>\n",
              "      <td>0.2</td>\n",
              "      <td>setosa</td>\n",
              "    </tr>\n",
              "    <tr>\n",
              "      <th>1</th>\n",
              "      <td>4.9</td>\n",
              "      <td>3.0</td>\n",
              "      <td>1.4</td>\n",
              "      <td>0.2</td>\n",
              "      <td>setosa</td>\n",
              "    </tr>\n",
              "    <tr>\n",
              "      <th>2</th>\n",
              "      <td>4.7</td>\n",
              "      <td>3.2</td>\n",
              "      <td>1.3</td>\n",
              "      <td>0.2</td>\n",
              "      <td>setosa</td>\n",
              "    </tr>\n",
              "    <tr>\n",
              "      <th>3</th>\n",
              "      <td>4.6</td>\n",
              "      <td>3.1</td>\n",
              "      <td>1.5</td>\n",
              "      <td>0.2</td>\n",
              "      <td>setosa</td>\n",
              "    </tr>\n",
              "    <tr>\n",
              "      <th>4</th>\n",
              "      <td>5.0</td>\n",
              "      <td>3.6</td>\n",
              "      <td>1.4</td>\n",
              "      <td>0.2</td>\n",
              "      <td>setosa</td>\n",
              "    </tr>\n",
              "    <tr>\n",
              "      <th>5</th>\n",
              "      <td>5.4</td>\n",
              "      <td>3.9</td>\n",
              "      <td>1.7</td>\n",
              "      <td>0.4</td>\n",
              "      <td>setosa</td>\n",
              "    </tr>\n",
              "    <tr>\n",
              "      <th>6</th>\n",
              "      <td>4.6</td>\n",
              "      <td>3.4</td>\n",
              "      <td>1.4</td>\n",
              "      <td>0.3</td>\n",
              "      <td>setosa</td>\n",
              "    </tr>\n",
              "    <tr>\n",
              "      <th>7</th>\n",
              "      <td>5.0</td>\n",
              "      <td>3.4</td>\n",
              "      <td>1.5</td>\n",
              "      <td>0.2</td>\n",
              "      <td>setosa</td>\n",
              "    </tr>\n",
              "    <tr>\n",
              "      <th>8</th>\n",
              "      <td>4.4</td>\n",
              "      <td>2.9</td>\n",
              "      <td>1.4</td>\n",
              "      <td>0.2</td>\n",
              "      <td>setosa</td>\n",
              "    </tr>\n",
              "    <tr>\n",
              "      <th>9</th>\n",
              "      <td>4.9</td>\n",
              "      <td>3.1</td>\n",
              "      <td>1.5</td>\n",
              "      <td>0.1</td>\n",
              "      <td>setosa</td>\n",
              "    </tr>\n",
              "    <tr>\n",
              "      <th>10</th>\n",
              "      <td>5.4</td>\n",
              "      <td>3.7</td>\n",
              "      <td>1.5</td>\n",
              "      <td>0.2</td>\n",
              "      <td>setosa</td>\n",
              "    </tr>\n",
              "    <tr>\n",
              "      <th>11</th>\n",
              "      <td>4.8</td>\n",
              "      <td>3.4</td>\n",
              "      <td>1.6</td>\n",
              "      <td>0.2</td>\n",
              "      <td>setosa</td>\n",
              "    </tr>\n",
              "    <tr>\n",
              "      <th>12</th>\n",
              "      <td>4.8</td>\n",
              "      <td>3.0</td>\n",
              "      <td>1.4</td>\n",
              "      <td>0.1</td>\n",
              "      <td>setosa</td>\n",
              "    </tr>\n",
              "    <tr>\n",
              "      <th>13</th>\n",
              "      <td>4.3</td>\n",
              "      <td>3.0</td>\n",
              "      <td>1.1</td>\n",
              "      <td>0.1</td>\n",
              "      <td>setosa</td>\n",
              "    </tr>\n",
              "    <tr>\n",
              "      <th>14</th>\n",
              "      <td>5.8</td>\n",
              "      <td>4.0</td>\n",
              "      <td>1.2</td>\n",
              "      <td>0.2</td>\n",
              "      <td>setosa</td>\n",
              "    </tr>\n",
              "    <tr>\n",
              "      <th>15</th>\n",
              "      <td>5.7</td>\n",
              "      <td>4.4</td>\n",
              "      <td>1.5</td>\n",
              "      <td>0.4</td>\n",
              "      <td>setosa</td>\n",
              "    </tr>\n",
              "    <tr>\n",
              "      <th>16</th>\n",
              "      <td>5.4</td>\n",
              "      <td>3.9</td>\n",
              "      <td>1.3</td>\n",
              "      <td>0.4</td>\n",
              "      <td>setosa</td>\n",
              "    </tr>\n",
              "    <tr>\n",
              "      <th>17</th>\n",
              "      <td>5.1</td>\n",
              "      <td>3.5</td>\n",
              "      <td>1.4</td>\n",
              "      <td>0.3</td>\n",
              "      <td>setosa</td>\n",
              "    </tr>\n",
              "    <tr>\n",
              "      <th>18</th>\n",
              "      <td>5.7</td>\n",
              "      <td>3.8</td>\n",
              "      <td>1.7</td>\n",
              "      <td>0.3</td>\n",
              "      <td>setosa</td>\n",
              "    </tr>\n",
              "    <tr>\n",
              "      <th>19</th>\n",
              "      <td>5.1</td>\n",
              "      <td>3.8</td>\n",
              "      <td>1.5</td>\n",
              "      <td>0.3</td>\n",
              "      <td>setosa</td>\n",
              "    </tr>\n",
              "    <tr>\n",
              "      <th>20</th>\n",
              "      <td>5.4</td>\n",
              "      <td>3.4</td>\n",
              "      <td>1.7</td>\n",
              "      <td>0.2</td>\n",
              "      <td>setosa</td>\n",
              "    </tr>\n",
              "    <tr>\n",
              "      <th>21</th>\n",
              "      <td>5.1</td>\n",
              "      <td>3.7</td>\n",
              "      <td>1.5</td>\n",
              "      <td>0.4</td>\n",
              "      <td>setosa</td>\n",
              "    </tr>\n",
              "    <tr>\n",
              "      <th>22</th>\n",
              "      <td>4.6</td>\n",
              "      <td>3.6</td>\n",
              "      <td>1.0</td>\n",
              "      <td>0.2</td>\n",
              "      <td>setosa</td>\n",
              "    </tr>\n",
              "    <tr>\n",
              "      <th>23</th>\n",
              "      <td>5.1</td>\n",
              "      <td>3.3</td>\n",
              "      <td>1.7</td>\n",
              "      <td>0.5</td>\n",
              "      <td>setosa</td>\n",
              "    </tr>\n",
              "    <tr>\n",
              "      <th>24</th>\n",
              "      <td>4.8</td>\n",
              "      <td>3.4</td>\n",
              "      <td>1.9</td>\n",
              "      <td>0.2</td>\n",
              "      <td>setosa</td>\n",
              "    </tr>\n",
              "    <tr>\n",
              "      <th>25</th>\n",
              "      <td>5.0</td>\n",
              "      <td>3.0</td>\n",
              "      <td>1.6</td>\n",
              "      <td>0.2</td>\n",
              "      <td>setosa</td>\n",
              "    </tr>\n",
              "    <tr>\n",
              "      <th>26</th>\n",
              "      <td>5.0</td>\n",
              "      <td>3.4</td>\n",
              "      <td>1.6</td>\n",
              "      <td>0.4</td>\n",
              "      <td>setosa</td>\n",
              "    </tr>\n",
              "    <tr>\n",
              "      <th>27</th>\n",
              "      <td>5.2</td>\n",
              "      <td>3.5</td>\n",
              "      <td>1.5</td>\n",
              "      <td>0.2</td>\n",
              "      <td>setosa</td>\n",
              "    </tr>\n",
              "    <tr>\n",
              "      <th>28</th>\n",
              "      <td>5.2</td>\n",
              "      <td>3.4</td>\n",
              "      <td>1.4</td>\n",
              "      <td>0.2</td>\n",
              "      <td>setosa</td>\n",
              "    </tr>\n",
              "    <tr>\n",
              "      <th>29</th>\n",
              "      <td>4.7</td>\n",
              "      <td>3.2</td>\n",
              "      <td>1.6</td>\n",
              "      <td>0.2</td>\n",
              "      <td>setosa</td>\n",
              "    </tr>\n",
              "    <tr>\n",
              "      <th>...</th>\n",
              "      <td>...</td>\n",
              "      <td>...</td>\n",
              "      <td>...</td>\n",
              "      <td>...</td>\n",
              "      <td>...</td>\n",
              "    </tr>\n",
              "    <tr>\n",
              "      <th>120</th>\n",
              "      <td>6.9</td>\n",
              "      <td>3.2</td>\n",
              "      <td>5.7</td>\n",
              "      <td>2.3</td>\n",
              "      <td>virginica</td>\n",
              "    </tr>\n",
              "    <tr>\n",
              "      <th>121</th>\n",
              "      <td>5.6</td>\n",
              "      <td>2.8</td>\n",
              "      <td>4.9</td>\n",
              "      <td>2.0</td>\n",
              "      <td>virginica</td>\n",
              "    </tr>\n",
              "    <tr>\n",
              "      <th>122</th>\n",
              "      <td>7.7</td>\n",
              "      <td>2.8</td>\n",
              "      <td>6.7</td>\n",
              "      <td>2.0</td>\n",
              "      <td>virginica</td>\n",
              "    </tr>\n",
              "    <tr>\n",
              "      <th>123</th>\n",
              "      <td>6.3</td>\n",
              "      <td>2.7</td>\n",
              "      <td>4.9</td>\n",
              "      <td>1.8</td>\n",
              "      <td>virginica</td>\n",
              "    </tr>\n",
              "    <tr>\n",
              "      <th>124</th>\n",
              "      <td>6.7</td>\n",
              "      <td>3.3</td>\n",
              "      <td>5.7</td>\n",
              "      <td>2.1</td>\n",
              "      <td>virginica</td>\n",
              "    </tr>\n",
              "    <tr>\n",
              "      <th>125</th>\n",
              "      <td>7.2</td>\n",
              "      <td>3.2</td>\n",
              "      <td>6.0</td>\n",
              "      <td>1.8</td>\n",
              "      <td>virginica</td>\n",
              "    </tr>\n",
              "    <tr>\n",
              "      <th>126</th>\n",
              "      <td>6.2</td>\n",
              "      <td>2.8</td>\n",
              "      <td>4.8</td>\n",
              "      <td>1.8</td>\n",
              "      <td>virginica</td>\n",
              "    </tr>\n",
              "    <tr>\n",
              "      <th>127</th>\n",
              "      <td>6.1</td>\n",
              "      <td>3.0</td>\n",
              "      <td>4.9</td>\n",
              "      <td>1.8</td>\n",
              "      <td>virginica</td>\n",
              "    </tr>\n",
              "    <tr>\n",
              "      <th>128</th>\n",
              "      <td>6.4</td>\n",
              "      <td>2.8</td>\n",
              "      <td>5.6</td>\n",
              "      <td>2.1</td>\n",
              "      <td>virginica</td>\n",
              "    </tr>\n",
              "    <tr>\n",
              "      <th>129</th>\n",
              "      <td>7.2</td>\n",
              "      <td>3.0</td>\n",
              "      <td>5.8</td>\n",
              "      <td>1.6</td>\n",
              "      <td>virginica</td>\n",
              "    </tr>\n",
              "    <tr>\n",
              "      <th>130</th>\n",
              "      <td>7.4</td>\n",
              "      <td>2.8</td>\n",
              "      <td>6.1</td>\n",
              "      <td>1.9</td>\n",
              "      <td>virginica</td>\n",
              "    </tr>\n",
              "    <tr>\n",
              "      <th>131</th>\n",
              "      <td>7.9</td>\n",
              "      <td>3.8</td>\n",
              "      <td>6.4</td>\n",
              "      <td>2.0</td>\n",
              "      <td>virginica</td>\n",
              "    </tr>\n",
              "    <tr>\n",
              "      <th>132</th>\n",
              "      <td>6.4</td>\n",
              "      <td>2.8</td>\n",
              "      <td>5.6</td>\n",
              "      <td>2.2</td>\n",
              "      <td>virginica</td>\n",
              "    </tr>\n",
              "    <tr>\n",
              "      <th>133</th>\n",
              "      <td>6.3</td>\n",
              "      <td>2.8</td>\n",
              "      <td>5.1</td>\n",
              "      <td>1.5</td>\n",
              "      <td>virginica</td>\n",
              "    </tr>\n",
              "    <tr>\n",
              "      <th>134</th>\n",
              "      <td>6.1</td>\n",
              "      <td>2.6</td>\n",
              "      <td>5.6</td>\n",
              "      <td>1.4</td>\n",
              "      <td>virginica</td>\n",
              "    </tr>\n",
              "    <tr>\n",
              "      <th>135</th>\n",
              "      <td>7.7</td>\n",
              "      <td>3.0</td>\n",
              "      <td>6.1</td>\n",
              "      <td>2.3</td>\n",
              "      <td>virginica</td>\n",
              "    </tr>\n",
              "    <tr>\n",
              "      <th>136</th>\n",
              "      <td>6.3</td>\n",
              "      <td>3.4</td>\n",
              "      <td>5.6</td>\n",
              "      <td>2.4</td>\n",
              "      <td>virginica</td>\n",
              "    </tr>\n",
              "    <tr>\n",
              "      <th>137</th>\n",
              "      <td>6.4</td>\n",
              "      <td>3.1</td>\n",
              "      <td>5.5</td>\n",
              "      <td>1.8</td>\n",
              "      <td>virginica</td>\n",
              "    </tr>\n",
              "    <tr>\n",
              "      <th>138</th>\n",
              "      <td>6.0</td>\n",
              "      <td>3.0</td>\n",
              "      <td>4.8</td>\n",
              "      <td>1.8</td>\n",
              "      <td>virginica</td>\n",
              "    </tr>\n",
              "    <tr>\n",
              "      <th>139</th>\n",
              "      <td>6.9</td>\n",
              "      <td>3.1</td>\n",
              "      <td>5.4</td>\n",
              "      <td>2.1</td>\n",
              "      <td>virginica</td>\n",
              "    </tr>\n",
              "    <tr>\n",
              "      <th>140</th>\n",
              "      <td>6.7</td>\n",
              "      <td>3.1</td>\n",
              "      <td>5.6</td>\n",
              "      <td>2.4</td>\n",
              "      <td>virginica</td>\n",
              "    </tr>\n",
              "    <tr>\n",
              "      <th>141</th>\n",
              "      <td>6.9</td>\n",
              "      <td>3.1</td>\n",
              "      <td>5.1</td>\n",
              "      <td>2.3</td>\n",
              "      <td>virginica</td>\n",
              "    </tr>\n",
              "    <tr>\n",
              "      <th>142</th>\n",
              "      <td>5.8</td>\n",
              "      <td>2.7</td>\n",
              "      <td>5.1</td>\n",
              "      <td>1.9</td>\n",
              "      <td>virginica</td>\n",
              "    </tr>\n",
              "    <tr>\n",
              "      <th>143</th>\n",
              "      <td>6.8</td>\n",
              "      <td>3.2</td>\n",
              "      <td>5.9</td>\n",
              "      <td>2.3</td>\n",
              "      <td>virginica</td>\n",
              "    </tr>\n",
              "    <tr>\n",
              "      <th>144</th>\n",
              "      <td>6.7</td>\n",
              "      <td>3.3</td>\n",
              "      <td>5.7</td>\n",
              "      <td>2.5</td>\n",
              "      <td>virginica</td>\n",
              "    </tr>\n",
              "    <tr>\n",
              "      <th>145</th>\n",
              "      <td>6.7</td>\n",
              "      <td>3.0</td>\n",
              "      <td>5.2</td>\n",
              "      <td>2.3</td>\n",
              "      <td>virginica</td>\n",
              "    </tr>\n",
              "    <tr>\n",
              "      <th>146</th>\n",
              "      <td>6.3</td>\n",
              "      <td>2.5</td>\n",
              "      <td>5.0</td>\n",
              "      <td>1.9</td>\n",
              "      <td>virginica</td>\n",
              "    </tr>\n",
              "    <tr>\n",
              "      <th>147</th>\n",
              "      <td>6.5</td>\n",
              "      <td>3.0</td>\n",
              "      <td>5.2</td>\n",
              "      <td>2.0</td>\n",
              "      <td>virginica</td>\n",
              "    </tr>\n",
              "    <tr>\n",
              "      <th>148</th>\n",
              "      <td>6.2</td>\n",
              "      <td>3.4</td>\n",
              "      <td>5.4</td>\n",
              "      <td>2.3</td>\n",
              "      <td>virginica</td>\n",
              "    </tr>\n",
              "    <tr>\n",
              "      <th>149</th>\n",
              "      <td>5.9</td>\n",
              "      <td>3.0</td>\n",
              "      <td>5.1</td>\n",
              "      <td>1.8</td>\n",
              "      <td>virginica</td>\n",
              "    </tr>\n",
              "  </tbody>\n",
              "</table>\n",
              "<p>150 rows × 5 columns</p>\n",
              "</div>"
            ],
            "text/plain": [
              "     sepal_length  sepal_width  petal_length  petal_width    species\n",
              "0             5.1          3.5           1.4          0.2     setosa\n",
              "1             4.9          3.0           1.4          0.2     setosa\n",
              "2             4.7          3.2           1.3          0.2     setosa\n",
              "3             4.6          3.1           1.5          0.2     setosa\n",
              "4             5.0          3.6           1.4          0.2     setosa\n",
              "5             5.4          3.9           1.7          0.4     setosa\n",
              "6             4.6          3.4           1.4          0.3     setosa\n",
              "7             5.0          3.4           1.5          0.2     setosa\n",
              "8             4.4          2.9           1.4          0.2     setosa\n",
              "9             4.9          3.1           1.5          0.1     setosa\n",
              "10            5.4          3.7           1.5          0.2     setosa\n",
              "11            4.8          3.4           1.6          0.2     setosa\n",
              "12            4.8          3.0           1.4          0.1     setosa\n",
              "13            4.3          3.0           1.1          0.1     setosa\n",
              "14            5.8          4.0           1.2          0.2     setosa\n",
              "15            5.7          4.4           1.5          0.4     setosa\n",
              "16            5.4          3.9           1.3          0.4     setosa\n",
              "17            5.1          3.5           1.4          0.3     setosa\n",
              "18            5.7          3.8           1.7          0.3     setosa\n",
              "19            5.1          3.8           1.5          0.3     setosa\n",
              "20            5.4          3.4           1.7          0.2     setosa\n",
              "21            5.1          3.7           1.5          0.4     setosa\n",
              "22            4.6          3.6           1.0          0.2     setosa\n",
              "23            5.1          3.3           1.7          0.5     setosa\n",
              "24            4.8          3.4           1.9          0.2     setosa\n",
              "25            5.0          3.0           1.6          0.2     setosa\n",
              "26            5.0          3.4           1.6          0.4     setosa\n",
              "27            5.2          3.5           1.5          0.2     setosa\n",
              "28            5.2          3.4           1.4          0.2     setosa\n",
              "29            4.7          3.2           1.6          0.2     setosa\n",
              "..            ...          ...           ...          ...        ...\n",
              "120           6.9          3.2           5.7          2.3  virginica\n",
              "121           5.6          2.8           4.9          2.0  virginica\n",
              "122           7.7          2.8           6.7          2.0  virginica\n",
              "123           6.3          2.7           4.9          1.8  virginica\n",
              "124           6.7          3.3           5.7          2.1  virginica\n",
              "125           7.2          3.2           6.0          1.8  virginica\n",
              "126           6.2          2.8           4.8          1.8  virginica\n",
              "127           6.1          3.0           4.9          1.8  virginica\n",
              "128           6.4          2.8           5.6          2.1  virginica\n",
              "129           7.2          3.0           5.8          1.6  virginica\n",
              "130           7.4          2.8           6.1          1.9  virginica\n",
              "131           7.9          3.8           6.4          2.0  virginica\n",
              "132           6.4          2.8           5.6          2.2  virginica\n",
              "133           6.3          2.8           5.1          1.5  virginica\n",
              "134           6.1          2.6           5.6          1.4  virginica\n",
              "135           7.7          3.0           6.1          2.3  virginica\n",
              "136           6.3          3.4           5.6          2.4  virginica\n",
              "137           6.4          3.1           5.5          1.8  virginica\n",
              "138           6.0          3.0           4.8          1.8  virginica\n",
              "139           6.9          3.1           5.4          2.1  virginica\n",
              "140           6.7          3.1           5.6          2.4  virginica\n",
              "141           6.9          3.1           5.1          2.3  virginica\n",
              "142           5.8          2.7           5.1          1.9  virginica\n",
              "143           6.8          3.2           5.9          2.3  virginica\n",
              "144           6.7          3.3           5.7          2.5  virginica\n",
              "145           6.7          3.0           5.2          2.3  virginica\n",
              "146           6.3          2.5           5.0          1.9  virginica\n",
              "147           6.5          3.0           5.2          2.0  virginica\n",
              "148           6.2          3.4           5.4          2.3  virginica\n",
              "149           5.9          3.0           5.1          1.8  virginica\n",
              "\n",
              "[150 rows x 5 columns]"
            ]
          },
          "metadata": {
            "tags": []
          },
          "execution_count": 2
        }
      ]
    },
    {
      "cell_type": "code",
      "metadata": {
        "id": "IIQpjAnEF50x",
        "colab_type": "code",
        "outputId": "1d77e727-099e-4632-cb78-39c931aa5f83",
        "colab": {
          "base_uri": "https://localhost:8080/",
          "height": 742
        }
      },
      "source": [
        "sns.set(style='ticks')\n",
        "sns.pairplot(dataset.iloc[:,0:6], hue='species')"
      ],
      "execution_count": 3,
      "outputs": [
        {
          "output_type": "execute_result",
          "data": {
            "text/plain": [
              "<seaborn.axisgrid.PairGrid at 0x7f5443ff0eb8>"
            ]
          },
          "metadata": {
            "tags": []
          },
          "execution_count": 3
        },
        {
          "output_type": "display_data",
          "data": {
            "image/png": "[encoded data removed]",
            "text/plain": [
              "<Figure size 813.85x720 with 20 Axes>"
            ]
          },
          "metadata": {
            "tags": []
          }
        }
      ]
    },
    {
      "cell_type": "code",
      "metadata": {
        "id": "yBQsmWZIHnF8",
        "colab_type": "code",
        "colab": {}
      },
      "source": [
        "# Seperate the feature columns (first 4) from the labels columns (5th column)\n",
        "x = dataset.iloc[:,0:4].values\n",
        "y = dataset.iloc[:,4].values"
      ],
      "execution_count": 0,
      "outputs": []
    },
    {
      "cell_type": "code",
      "metadata": {
        "id": "8df52ZDBKOff",
        "colab_type": "code",
        "outputId": "9347d21e-a7ee-4ebe-ee93-cb234b9617ed",
        "colab": {
          "base_uri": "https://localhost:8080/",
          "height": 34
        }
      },
      "source": [
        "# Get the unique labels from the list with the help of numpy\n",
        "species_names = np.unique(np.array(y))\n",
        "species_names"
      ],
      "execution_count": 5,
      "outputs": [
        {
          "output_type": "execute_result",
          "data": {
            "text/plain": [
              "array(['setosa', 'versicolor', 'virginica'], dtype=object)"
            ]
          },
          "metadata": {
            "tags": []
          },
          "execution_count": 5
        }
      ]
    },
    {
      "cell_type": "code",
      "metadata": {
        "id": "akB1Ipl8KSCP",
        "colab_type": "code",
        "outputId": "f121928a-2537-4298-93f1-e7e0f3e7bb64",
        "colab": {
          "base_uri": "https://localhost:8080/",
          "height": 34
        }
      },
      "source": [
        "# Convert the list to dictionary with indexes\n",
        "species_names_dict = {k: v for v, k in enumerate(species_names)}\n",
        "species_names_dict"
      ],
      "execution_count": 6,
      "outputs": [
        {
          "output_type": "execute_result",
          "data": {
            "text/plain": [
              "{'setosa': 0, 'versicolor': 1, 'virginica': 2}"
            ]
          },
          "metadata": {
            "tags": []
          },
          "execution_count": 6
        }
      ]
    },
    {
      "cell_type": "code",
      "metadata": {
        "id": "eX5TZpA1OZZm",
        "colab_type": "code",
        "outputId": "85b635c9-4265-45f2-fd2f-118391b1b77b",
        "colab": {
          "base_uri": "https://localhost:8080/",
          "height": 195
        }
      },
      "source": [
        "# 1 hot encode the labels since they are mutually exclusive\n",
        "s = pd.DataFrame(y)\n",
        "y_cat = pd.get_dummies(s)\n",
        "y_cat.sample(5)"
      ],
      "execution_count": 7,
      "outputs": [
        {
          "output_type": "execute_result",
          "data": {
            "text/html": [
              "<div>\n",
              "<style scoped>\n",
              "    .dataframe tbody tr th:only-of-type {\n",
              "        vertical-align: middle;\n",
              "    }\n",
              "\n",
              "    .dataframe tbody tr th {\n",
              "        vertical-align: top;\n",
              "    }\n",
              "\n",
              "    .dataframe thead th {\n",
              "        text-align: right;\n",
              "    }\n",
              "</style>\n",
              "<table border=\"1\" class=\"dataframe\">\n",
              "  <thead>\n",
              "    <tr style=\"text-align: right;\">\n",
              "      <th></th>\n",
              "      <th>0_setosa</th>\n",
              "      <th>0_versicolor</th>\n",
              "      <th>0_virginica</th>\n",
              "    </tr>\n",
              "  </thead>\n",
              "  <tbody>\n",
              "    <tr>\n",
              "      <th>26</th>\n",
              "      <td>1</td>\n",
              "      <td>0</td>\n",
              "      <td>0</td>\n",
              "    </tr>\n",
              "    <tr>\n",
              "      <th>18</th>\n",
              "      <td>1</td>\n",
              "      <td>0</td>\n",
              "      <td>0</td>\n",
              "    </tr>\n",
              "    <tr>\n",
              "      <th>75</th>\n",
              "      <td>0</td>\n",
              "      <td>1</td>\n",
              "      <td>0</td>\n",
              "    </tr>\n",
              "    <tr>\n",
              "      <th>143</th>\n",
              "      <td>0</td>\n",
              "      <td>0</td>\n",
              "      <td>1</td>\n",
              "    </tr>\n",
              "    <tr>\n",
              "      <th>97</th>\n",
              "      <td>0</td>\n",
              "      <td>1</td>\n",
              "      <td>0</td>\n",
              "    </tr>\n",
              "  </tbody>\n",
              "</table>\n",
              "</div>"
            ],
            "text/plain": [
              "     0_setosa  0_versicolor  0_virginica\n",
              "26          1             0            0\n",
              "18          1             0            0\n",
              "75          0             1            0\n",
              "143         0             0            1\n",
              "97          0             1            0"
            ]
          },
          "metadata": {
            "tags": []
          },
          "execution_count": 7
        }
      ]
    },
    {
      "cell_type": "code",
      "metadata": {
        "id": "6DlA3iH6Pslc",
        "colab_type": "code",
        "outputId": "c385921f-239b-40e9-87bb-e00ca974d4eb",
        "colab": {
          "base_uri": "https://localhost:8080/",
          "height": 1172
        }
      },
      "source": [
        "# Split into train and test groups\n",
        "## but first make the x (features) into pandas dataset\n",
        "X = pd.DataFrame(x)\n",
        "\n",
        "from sklearn.model_selection import train_test_split\n",
        "\n",
        "X_train, X_test, y_train, y_test = train_test_split(X.values, y_cat, test_size=0.25,random_state=42)\n",
        "y_test"
      ],
      "execution_count": 8,
      "outputs": [
        {
          "output_type": "execute_result",
          "data": {
            "text/html": [
              "<div>\n",
              "<style scoped>\n",
              "    .dataframe tbody tr th:only-of-type {\n",
              "        vertical-align: middle;\n",
              "    }\n",
              "\n",
              "    .dataframe tbody tr th {\n",
              "        vertical-align: top;\n",
              "    }\n",
              "\n",
              "    .dataframe thead th {\n",
              "        text-align: right;\n",
              "    }\n",
              "</style>\n",
              "<table border=\"1\" class=\"dataframe\">\n",
              "  <thead>\n",
              "    <tr style=\"text-align: right;\">\n",
              "      <th></th>\n",
              "      <th>0_setosa</th>\n",
              "      <th>0_versicolor</th>\n",
              "      <th>0_virginica</th>\n",
              "    </tr>\n",
              "  </thead>\n",
              "  <tbody>\n",
              "    <tr>\n",
              "      <th>73</th>\n",
              "      <td>0</td>\n",
              "      <td>1</td>\n",
              "      <td>0</td>\n",
              "    </tr>\n",
              "    <tr>\n",
              "      <th>18</th>\n",
              "      <td>1</td>\n",
              "      <td>0</td>\n",
              "      <td>0</td>\n",
              "    </tr>\n",
              "    <tr>\n",
              "      <th>118</th>\n",
              "      <td>0</td>\n",
              "      <td>0</td>\n",
              "      <td>1</td>\n",
              "    </tr>\n",
              "    <tr>\n",
              "      <th>78</th>\n",
              "      <td>0</td>\n",
              "      <td>1</td>\n",
              "      <td>0</td>\n",
              "    </tr>\n",
              "    <tr>\n",
              "      <th>76</th>\n",
              "      <td>0</td>\n",
              "      <td>1</td>\n",
              "      <td>0</td>\n",
              "    </tr>\n",
              "    <tr>\n",
              "      <th>31</th>\n",
              "      <td>1</td>\n",
              "      <td>0</td>\n",
              "      <td>0</td>\n",
              "    </tr>\n",
              "    <tr>\n",
              "      <th>64</th>\n",
              "      <td>0</td>\n",
              "      <td>1</td>\n",
              "      <td>0</td>\n",
              "    </tr>\n",
              "    <tr>\n",
              "      <th>141</th>\n",
              "      <td>0</td>\n",
              "      <td>0</td>\n",
              "      <td>1</td>\n",
              "    </tr>\n",
              "    <tr>\n",
              "      <th>68</th>\n",
              "      <td>0</td>\n",
              "      <td>1</td>\n",
              "      <td>0</td>\n",
              "    </tr>\n",
              "    <tr>\n",
              "      <th>82</th>\n",
              "      <td>0</td>\n",
              "      <td>1</td>\n",
              "      <td>0</td>\n",
              "    </tr>\n",
              "    <tr>\n",
              "      <th>110</th>\n",
              "      <td>0</td>\n",
              "      <td>0</td>\n",
              "      <td>1</td>\n",
              "    </tr>\n",
              "    <tr>\n",
              "      <th>12</th>\n",
              "      <td>1</td>\n",
              "      <td>0</td>\n",
              "      <td>0</td>\n",
              "    </tr>\n",
              "    <tr>\n",
              "      <th>36</th>\n",
              "      <td>1</td>\n",
              "      <td>0</td>\n",
              "      <td>0</td>\n",
              "    </tr>\n",
              "    <tr>\n",
              "      <th>9</th>\n",
              "      <td>1</td>\n",
              "      <td>0</td>\n",
              "      <td>0</td>\n",
              "    </tr>\n",
              "    <tr>\n",
              "      <th>19</th>\n",
              "      <td>1</td>\n",
              "      <td>0</td>\n",
              "      <td>0</td>\n",
              "    </tr>\n",
              "    <tr>\n",
              "      <th>56</th>\n",
              "      <td>0</td>\n",
              "      <td>1</td>\n",
              "      <td>0</td>\n",
              "    </tr>\n",
              "    <tr>\n",
              "      <th>104</th>\n",
              "      <td>0</td>\n",
              "      <td>0</td>\n",
              "      <td>1</td>\n",
              "    </tr>\n",
              "    <tr>\n",
              "      <th>69</th>\n",
              "      <td>0</td>\n",
              "      <td>1</td>\n",
              "      <td>0</td>\n",
              "    </tr>\n",
              "    <tr>\n",
              "      <th>55</th>\n",
              "      <td>0</td>\n",
              "      <td>1</td>\n",
              "      <td>0</td>\n",
              "    </tr>\n",
              "    <tr>\n",
              "      <th>132</th>\n",
              "      <td>0</td>\n",
              "      <td>0</td>\n",
              "      <td>1</td>\n",
              "    </tr>\n",
              "    <tr>\n",
              "      <th>29</th>\n",
              "      <td>1</td>\n",
              "      <td>0</td>\n",
              "      <td>0</td>\n",
              "    </tr>\n",
              "    <tr>\n",
              "      <th>127</th>\n",
              "      <td>0</td>\n",
              "      <td>0</td>\n",
              "      <td>1</td>\n",
              "    </tr>\n",
              "    <tr>\n",
              "      <th>26</th>\n",
              "      <td>1</td>\n",
              "      <td>0</td>\n",
              "      <td>0</td>\n",
              "    </tr>\n",
              "    <tr>\n",
              "      <th>128</th>\n",
              "      <td>0</td>\n",
              "      <td>0</td>\n",
              "      <td>1</td>\n",
              "    </tr>\n",
              "    <tr>\n",
              "      <th>131</th>\n",
              "      <td>0</td>\n",
              "      <td>0</td>\n",
              "      <td>1</td>\n",
              "    </tr>\n",
              "    <tr>\n",
              "      <th>145</th>\n",
              "      <td>0</td>\n",
              "      <td>0</td>\n",
              "      <td>1</td>\n",
              "    </tr>\n",
              "    <tr>\n",
              "      <th>108</th>\n",
              "      <td>0</td>\n",
              "      <td>0</td>\n",
              "      <td>1</td>\n",
              "    </tr>\n",
              "    <tr>\n",
              "      <th>143</th>\n",
              "      <td>0</td>\n",
              "      <td>0</td>\n",
              "      <td>1</td>\n",
              "    </tr>\n",
              "    <tr>\n",
              "      <th>45</th>\n",
              "      <td>1</td>\n",
              "      <td>0</td>\n",
              "      <td>0</td>\n",
              "    </tr>\n",
              "    <tr>\n",
              "      <th>30</th>\n",
              "      <td>1</td>\n",
              "      <td>0</td>\n",
              "      <td>0</td>\n",
              "    </tr>\n",
              "    <tr>\n",
              "      <th>22</th>\n",
              "      <td>1</td>\n",
              "      <td>0</td>\n",
              "      <td>0</td>\n",
              "    </tr>\n",
              "    <tr>\n",
              "      <th>15</th>\n",
              "      <td>1</td>\n",
              "      <td>0</td>\n",
              "      <td>0</td>\n",
              "    </tr>\n",
              "    <tr>\n",
              "      <th>65</th>\n",
              "      <td>0</td>\n",
              "      <td>1</td>\n",
              "      <td>0</td>\n",
              "    </tr>\n",
              "    <tr>\n",
              "      <th>11</th>\n",
              "      <td>1</td>\n",
              "      <td>0</td>\n",
              "      <td>0</td>\n",
              "    </tr>\n",
              "    <tr>\n",
              "      <th>42</th>\n",
              "      <td>1</td>\n",
              "      <td>0</td>\n",
              "      <td>0</td>\n",
              "    </tr>\n",
              "    <tr>\n",
              "      <th>146</th>\n",
              "      <td>0</td>\n",
              "      <td>0</td>\n",
              "      <td>1</td>\n",
              "    </tr>\n",
              "    <tr>\n",
              "      <th>51</th>\n",
              "      <td>0</td>\n",
              "      <td>1</td>\n",
              "      <td>0</td>\n",
              "    </tr>\n",
              "    <tr>\n",
              "      <th>27</th>\n",
              "      <td>1</td>\n",
              "      <td>0</td>\n",
              "      <td>0</td>\n",
              "    </tr>\n",
              "  </tbody>\n",
              "</table>\n",
              "</div>"
            ],
            "text/plain": [
              "     0_setosa  0_versicolor  0_virginica\n",
              "73          0             1            0\n",
              "18          1             0            0\n",
              "118         0             0            1\n",
              "78          0             1            0\n",
              "76          0             1            0\n",
              "31          1             0            0\n",
              "64          0             1            0\n",
              "141         0             0            1\n",
              "68          0             1            0\n",
              "82          0             1            0\n",
              "110         0             0            1\n",
              "12          1             0            0\n",
              "36          1             0            0\n",
              "9           1             0            0\n",
              "19          1             0            0\n",
              "56          0             1            0\n",
              "104         0             0            1\n",
              "69          0             1            0\n",
              "55          0             1            0\n",
              "132         0             0            1\n",
              "29          1             0            0\n",
              "127         0             0            1\n",
              "26          1             0            0\n",
              "128         0             0            1\n",
              "131         0             0            1\n",
              "145         0             0            1\n",
              "108         0             0            1\n",
              "143         0             0            1\n",
              "45          1             0            0\n",
              "30          1             0            0\n",
              "22          1             0            0\n",
              "15          1             0            0\n",
              "65          0             1            0\n",
              "11          1             0            0\n",
              "42          1             0            0\n",
              "146         0             0            1\n",
              "51          0             1            0\n",
              "27          1             0            0"
            ]
          },
          "metadata": {
            "tags": []
          },
          "execution_count": 8
        }
      ]
    },
    {
      "cell_type": "code",
      "metadata": {
        "id": "sSNgo08YQbC9",
        "colab_type": "code",
        "outputId": "f7b2e5cb-6c84-42b1-e78f-59b6cc3455a2",
        "colab": {
          "base_uri": "https://localhost:8080/",
          "height": 222
        }
      },
      "source": [
        "# Softmax activation function because we work with 1-hot encoding labels\n",
        "# The categorical_crossentropy is the one we use when working with sofmax\n",
        "model = Sequential()\n",
        "# 3 categories as output\n",
        "# 4 input types\n",
        "model.add(Dense(3,input_shape=(4,),activation='softmax'))\n",
        "model.compile(Adam(lr=0.1),loss='categorical_crossentropy',metrics=['accuracy'])"
      ],
      "execution_count": 9,
      "outputs": [
        {
          "output_type": "stream",
          "text": [
            "WARNING: Logging before flag parsing goes to stderr.\n",
            "W0618 18:20:40.767384 140000945817472 deprecation_wrapper.py:119] From /usr/local/lib/python3.6/dist-packages/keras/backend/tensorflow_backend.py:74: The name tf.get_default_graph is deprecated. Please use tf.compat.v1.get_default_graph instead.\n",
            "\n",
            "W0618 18:20:40.824145 140000945817472 deprecation_wrapper.py:119] From /usr/local/lib/python3.6/dist-packages/keras/backend/tensorflow_backend.py:517: The name tf.placeholder is deprecated. Please use tf.compat.v1.placeholder instead.\n",
            "\n",
            "W0618 18:20:40.834585 140000945817472 deprecation_wrapper.py:119] From /usr/local/lib/python3.6/dist-packages/keras/backend/tensorflow_backend.py:4138: The name tf.random_uniform is deprecated. Please use tf.random.uniform instead.\n",
            "\n",
            "W0618 18:20:40.884329 140000945817472 deprecation_wrapper.py:119] From /usr/local/lib/python3.6/dist-packages/keras/optimizers.py:790: The name tf.train.Optimizer is deprecated. Please use tf.compat.v1.train.Optimizer instead.\n",
            "\n",
            "W0618 18:20:40.901802 140000945817472 deprecation_wrapper.py:119] From /usr/local/lib/python3.6/dist-packages/keras/backend/tensorflow_backend.py:3295: The name tf.log is deprecated. Please use tf.math.log instead.\n",
            "\n"
          ],
          "name": "stderr"
        }
      ]
    },
    {
      "cell_type": "code",
      "metadata": {
        "id": "3tU_x80eTWs3",
        "colab_type": "code",
        "colab": {}
      },
      "source": [
        "# Early stopping\n",
        "from keras.callbacks import EarlyStopping\n",
        "es = EarlyStopping(monitor='val_loss',min_delta=0.001,patience=5,verbose=1,mode='auto')"
      ],
      "execution_count": 0,
      "outputs": []
    },
    {
      "cell_type": "code",
      "metadata": {
        "id": "EaVCas_pUk_S",
        "colab_type": "code",
        "outputId": "915625bc-706a-401a-e35d-b9aeb14aca85",
        "colab": {
          "base_uri": "https://localhost:8080/",
          "height": 3262
        }
      },
      "source": [
        "# Train the model\n",
        "model.fit(X_train, y_train, validation_data=(X_test,y_test),callbacks=[es],epochs=500)"
      ],
      "execution_count": 11,
      "outputs": [
        {
          "output_type": "stream",
          "text": [
            "W0618 18:20:54.169243 140000945817472 deprecation.py:323] From /usr/local/lib/python3.6/dist-packages/tensorflow/python/ops/math_grad.py:1250: add_dispatch_support.<locals>.wrapper (from tensorflow.python.ops.array_ops) is deprecated and will be removed in a future version.\n",
            "Instructions for updating:\n",
            "Use tf.where in 2.0, which has the same broadcast rule as np.where\n",
            "W0618 18:20:54.220993 140000945817472 deprecation_wrapper.py:119] From /usr/local/lib/python3.6/dist-packages/keras/backend/tensorflow_backend.py:986: The name tf.assign_add is deprecated. Please use tf.compat.v1.assign_add instead.\n",
            "\n"
          ],
          "name": "stderr"
        },
        {
          "output_type": "stream",
          "text": [
            "Train on 112 samples, validate on 38 samples\n",
            "Epoch 1/500\n",
            "112/112 [==============================] - 1s 7ms/step - loss: 2.3717 - acc: 0.2589 - val_loss: 2.0938 - val_acc: 0.3158\n",
            "Epoch 2/500\n",
            "112/112 [==============================] - 0s 117us/step - loss: 1.6973 - acc: 0.3036 - val_loss: 1.1908 - val_acc: 0.2895\n",
            "Epoch 3/500\n",
            "112/112 [==============================] - 0s 104us/step - loss: 1.0397 - acc: 0.4286 - val_loss: 0.7569 - val_acc: 0.7105\n",
            "Epoch 4/500\n",
            "112/112 [==============================] - 0s 124us/step - loss: 0.7428 - acc: 0.6696 - val_loss: 0.5999 - val_acc: 0.7368\n",
            "Epoch 5/500\n",
            "112/112 [==============================] - 0s 111us/step - loss: 0.6003 - acc: 0.7321 - val_loss: 0.4852 - val_acc: 0.7895\n",
            "Epoch 6/500\n",
            "112/112 [==============================] - 0s 105us/step - loss: 0.5255 - acc: 0.7054 - val_loss: 0.4407 - val_acc: 0.8421\n",
            "Epoch 7/500\n",
            "112/112 [==============================] - 0s 106us/step - loss: 0.4870 - acc: 0.8482 - val_loss: 0.4064 - val_acc: 0.8684\n",
            "Epoch 8/500\n",
            "112/112 [==============================] - 0s 100us/step - loss: 0.5012 - acc: 0.6964 - val_loss: 0.3812 - val_acc: 0.8421\n",
            "Epoch 9/500\n",
            "112/112 [==============================] - 0s 101us/step - loss: 0.4793 - acc: 0.6786 - val_loss: 0.3728 - val_acc: 0.8684\n",
            "Epoch 10/500\n",
            "112/112 [==============================] - 0s 114us/step - loss: 0.4330 - acc: 0.7589 - val_loss: 0.3537 - val_acc: 0.7895\n",
            "Epoch 11/500\n",
            "112/112 [==============================] - 0s 100us/step - loss: 0.3844 - acc: 0.8482 - val_loss: 0.3684 - val_acc: 0.8421\n",
            "Epoch 12/500\n",
            "112/112 [==============================] - 0s 109us/step - loss: 0.3933 - acc: 0.7946 - val_loss: 0.3177 - val_acc: 0.8421\n",
            "Epoch 13/500\n",
            "112/112 [==============================] - 0s 111us/step - loss: 0.3664 - acc: 0.8214 - val_loss: 0.2936 - val_acc: 0.9737\n",
            "Epoch 14/500\n",
            "112/112 [==============================] - 0s 80us/step - loss: 0.3329 - acc: 0.9732 - val_loss: 0.2925 - val_acc: 0.9211\n",
            "Epoch 15/500\n",
            "112/112 [==============================] - 0s 69us/step - loss: 0.3352 - acc: 0.9286 - val_loss: 0.2681 - val_acc: 0.9737\n",
            "Epoch 16/500\n",
            "112/112 [==============================] - 0s 78us/step - loss: 0.3181 - acc: 0.9375 - val_loss: 0.2589 - val_acc: 0.9737\n",
            "Epoch 17/500\n",
            "112/112 [==============================] - 0s 74us/step - loss: 0.2977 - acc: 0.9732 - val_loss: 0.2654 - val_acc: 0.9211\n",
            "Epoch 18/500\n",
            "112/112 [==============================] - 0s 79us/step - loss: 0.3075 - acc: 0.9464 - val_loss: 0.2391 - val_acc: 0.9737\n",
            "Epoch 19/500\n",
            "112/112 [==============================] - 0s 68us/step - loss: 0.3024 - acc: 0.9107 - val_loss: 0.2306 - val_acc: 0.9737\n",
            "Epoch 20/500\n",
            "112/112 [==============================] - 0s 67us/step - loss: 0.2748 - acc: 0.9821 - val_loss: 0.2293 - val_acc: 1.0000\n",
            "Epoch 21/500\n",
            "112/112 [==============================] - 0s 71us/step - loss: 0.2809 - acc: 0.9554 - val_loss: 0.2157 - val_acc: 0.9737\n",
            "Epoch 22/500\n",
            "112/112 [==============================] - 0s 71us/step - loss: 0.2509 - acc: 0.9821 - val_loss: 0.2259 - val_acc: 0.9211\n",
            "Epoch 23/500\n",
            "112/112 [==============================] - 0s 67us/step - loss: 0.2545 - acc: 0.9554 - val_loss: 0.2058 - val_acc: 0.9737\n",
            "Epoch 24/500\n",
            "112/112 [==============================] - 0s 91us/step - loss: 0.2438 - acc: 0.9643 - val_loss: 0.1967 - val_acc: 1.0000\n",
            "Epoch 25/500\n",
            "112/112 [==============================] - 0s 87us/step - loss: 0.2335 - acc: 0.9643 - val_loss: 0.1902 - val_acc: 0.9737\n",
            "Epoch 26/500\n",
            "112/112 [==============================] - 0s 102us/step - loss: 0.2279 - acc: 0.9643 - val_loss: 0.1850 - val_acc: 0.9737\n",
            "Epoch 27/500\n",
            "112/112 [==============================] - 0s 97us/step - loss: 0.2243 - acc: 0.9732 - val_loss: 0.1837 - val_acc: 1.0000\n",
            "Epoch 28/500\n",
            "112/112 [==============================] - 0s 83us/step - loss: 0.2213 - acc: 0.9554 - val_loss: 0.1753 - val_acc: 1.0000\n",
            "Epoch 29/500\n",
            "112/112 [==============================] - 0s 126us/step - loss: 0.2102 - acc: 0.9643 - val_loss: 0.1724 - val_acc: 1.0000\n",
            "Epoch 30/500\n",
            "112/112 [==============================] - 0s 80us/step - loss: 0.2084 - acc: 0.9643 - val_loss: 0.1665 - val_acc: 1.0000\n",
            "Epoch 31/500\n",
            "112/112 [==============================] - 0s 97us/step - loss: 0.2012 - acc: 0.9643 - val_loss: 0.1664 - val_acc: 1.0000\n",
            "Epoch 32/500\n",
            "112/112 [==============================] - 0s 113us/step - loss: 0.2015 - acc: 0.9643 - val_loss: 0.1584 - val_acc: 1.0000\n",
            "Epoch 33/500\n",
            "112/112 [==============================] - 0s 114us/step - loss: 0.1928 - acc: 0.9732 - val_loss: 0.1545 - val_acc: 1.0000\n",
            "Epoch 34/500\n",
            "112/112 [==============================] - 0s 99us/step - loss: 0.1923 - acc: 0.9732 - val_loss: 0.1513 - val_acc: 1.0000\n",
            "Epoch 35/500\n",
            "112/112 [==============================] - 0s 101us/step - loss: 0.1865 - acc: 0.9643 - val_loss: 0.1504 - val_acc: 1.0000\n",
            "Epoch 36/500\n",
            "112/112 [==============================] - 0s 153us/step - loss: 0.1814 - acc: 0.9732 - val_loss: 0.1466 - val_acc: 0.9737\n",
            "Epoch 37/500\n",
            "112/112 [==============================] - 0s 119us/step - loss: 0.1847 - acc: 0.9643 - val_loss: 0.1431 - val_acc: 1.0000\n",
            "Epoch 38/500\n",
            "112/112 [==============================] - 0s 144us/step - loss: 0.1838 - acc: 0.9732 - val_loss: 0.1442 - val_acc: 1.0000\n",
            "Epoch 39/500\n",
            "112/112 [==============================] - 0s 144us/step - loss: 0.1831 - acc: 0.9464 - val_loss: 0.1426 - val_acc: 0.9737\n",
            "Epoch 40/500\n",
            "112/112 [==============================] - 0s 134us/step - loss: 0.1784 - acc: 0.9464 - val_loss: 0.1411 - val_acc: 1.0000\n",
            "Epoch 41/500\n",
            "112/112 [==============================] - 0s 114us/step - loss: 0.1671 - acc: 0.9643 - val_loss: 0.1335 - val_acc: 0.9737\n",
            "Epoch 42/500\n",
            "112/112 [==============================] - 0s 114us/step - loss: 0.1729 - acc: 0.9554 - val_loss: 0.1297 - val_acc: 1.0000\n",
            "Epoch 43/500\n",
            "112/112 [==============================] - 0s 119us/step - loss: 0.1733 - acc: 0.9643 - val_loss: 0.1279 - val_acc: 1.0000\n",
            "Epoch 44/500\n",
            "112/112 [==============================] - 0s 97us/step - loss: 0.1637 - acc: 0.9643 - val_loss: 0.1304 - val_acc: 0.9737\n",
            "Epoch 45/500\n",
            "112/112 [==============================] - 0s 110us/step - loss: 0.1867 - acc: 0.9286 - val_loss: 0.1250 - val_acc: 1.0000\n",
            "Epoch 46/500\n",
            "112/112 [==============================] - 0s 134us/step - loss: 0.1718 - acc: 0.9643 - val_loss: 0.1217 - val_acc: 0.9737\n",
            "Epoch 47/500\n",
            "112/112 [==============================] - 0s 116us/step - loss: 0.1700 - acc: 0.9643 - val_loss: 0.1352 - val_acc: 0.9474\n",
            "Epoch 48/500\n",
            "112/112 [==============================] - 0s 131us/step - loss: 0.1511 - acc: 0.9732 - val_loss: 0.1247 - val_acc: 0.9737\n",
            "Epoch 49/500\n",
            "112/112 [==============================] - 0s 104us/step - loss: 0.1615 - acc: 0.9554 - val_loss: 0.1148 - val_acc: 1.0000\n",
            "Epoch 50/500\n",
            "112/112 [==============================] - 0s 107us/step - loss: 0.1449 - acc: 0.9732 - val_loss: 0.1181 - val_acc: 1.0000\n",
            "Epoch 51/500\n",
            "112/112 [==============================] - 0s 131us/step - loss: 0.1464 - acc: 0.9643 - val_loss: 0.1110 - val_acc: 1.0000\n",
            "Epoch 52/500\n",
            "112/112 [==============================] - 0s 124us/step - loss: 0.1418 - acc: 0.9643 - val_loss: 0.1105 - val_acc: 1.0000\n",
            "Epoch 53/500\n",
            "112/112 [==============================] - 0s 143us/step - loss: 0.1403 - acc: 0.9732 - val_loss: 0.1101 - val_acc: 1.0000\n",
            "Epoch 54/500\n",
            "112/112 [==============================] - 0s 126us/step - loss: 0.1412 - acc: 0.9643 - val_loss: 0.1068 - val_acc: 1.0000\n",
            "Epoch 55/500\n",
            "112/112 [==============================] - 0s 124us/step - loss: 0.1368 - acc: 0.9643 - val_loss: 0.1073 - val_acc: 1.0000\n",
            "Epoch 56/500\n",
            "112/112 [==============================] - 0s 104us/step - loss: 0.1419 - acc: 0.9732 - val_loss: 0.1038 - val_acc: 1.0000\n",
            "Epoch 57/500\n",
            "112/112 [==============================] - 0s 102us/step - loss: 0.1379 - acc: 0.9643 - val_loss: 0.1070 - val_acc: 1.0000\n",
            "Epoch 58/500\n",
            "112/112 [==============================] - 0s 93us/step - loss: 0.1381 - acc: 0.9643 - val_loss: 0.1057 - val_acc: 0.9737\n",
            "Epoch 59/500\n",
            "112/112 [==============================] - 0s 97us/step - loss: 0.1365 - acc: 0.9643 - val_loss: 0.1050 - val_acc: 1.0000\n",
            "Epoch 60/500\n",
            "112/112 [==============================] - 0s 140us/step - loss: 0.1369 - acc: 0.9732 - val_loss: 0.0987 - val_acc: 1.0000\n",
            "Epoch 61/500\n",
            "112/112 [==============================] - 0s 107us/step - loss: 0.1363 - acc: 0.9554 - val_loss: 0.1027 - val_acc: 0.9737\n",
            "Epoch 62/500\n",
            "112/112 [==============================] - 0s 124us/step - loss: 0.1331 - acc: 0.9643 - val_loss: 0.1091 - val_acc: 1.0000\n",
            "Epoch 63/500\n",
            "112/112 [==============================] - 0s 102us/step - loss: 0.1312 - acc: 0.9643 - val_loss: 0.0974 - val_acc: 0.9737\n",
            "Epoch 64/500\n",
            "112/112 [==============================] - 0s 91us/step - loss: 0.1529 - acc: 0.9464 - val_loss: 0.0984 - val_acc: 0.9737\n",
            "Epoch 65/500\n",
            "112/112 [==============================] - 0s 146us/step - loss: 0.1297 - acc: 0.9732 - val_loss: 0.1149 - val_acc: 0.9474\n",
            "Epoch 66/500\n",
            "112/112 [==============================] - 0s 79us/step - loss: 0.1259 - acc: 0.9643 - val_loss: 0.0969 - val_acc: 0.9737\n",
            "Epoch 67/500\n",
            "112/112 [==============================] - 0s 82us/step - loss: 0.1417 - acc: 0.9643 - val_loss: 0.0913 - val_acc: 1.0000\n",
            "Epoch 68/500\n",
            "112/112 [==============================] - 0s 115us/step - loss: 0.1454 - acc: 0.9464 - val_loss: 0.0995 - val_acc: 1.0000\n",
            "Epoch 69/500\n",
            "112/112 [==============================] - 0s 104us/step - loss: 0.1379 - acc: 0.9643 - val_loss: 0.1169 - val_acc: 0.9737\n",
            "Epoch 70/500\n",
            "112/112 [==============================] - 0s 109us/step - loss: 0.1311 - acc: 0.9643 - val_loss: 0.1101 - val_acc: 0.9474\n",
            "Epoch 71/500\n",
            "112/112 [==============================] - 0s 104us/step - loss: 0.1393 - acc: 0.9554 - val_loss: 0.0884 - val_acc: 1.0000\n",
            "Epoch 72/500\n",
            "112/112 [==============================] - 0s 137us/step - loss: 0.1149 - acc: 0.9732 - val_loss: 0.0895 - val_acc: 0.9737\n",
            "Epoch 73/500\n",
            "112/112 [==============================] - 0s 141us/step - loss: 0.1175 - acc: 0.9732 - val_loss: 0.0874 - val_acc: 1.0000\n",
            "Epoch 74/500\n",
            "112/112 [==============================] - 0s 117us/step - loss: 0.1311 - acc: 0.9554 - val_loss: 0.0862 - val_acc: 1.0000\n",
            "Epoch 75/500\n",
            "112/112 [==============================] - 0s 144us/step - loss: 0.1294 - acc: 0.9643 - val_loss: 0.0971 - val_acc: 0.9737\n",
            "Epoch 76/500\n",
            "112/112 [==============================] - 0s 79us/step - loss: 0.1138 - acc: 0.9732 - val_loss: 0.1100 - val_acc: 0.9474\n",
            "Epoch 77/500\n",
            "112/112 [==============================] - 0s 147us/step - loss: 0.1455 - acc: 0.9554 - val_loss: 0.0824 - val_acc: 1.0000\n",
            "Epoch 78/500\n",
            "112/112 [==============================] - 0s 121us/step - loss: 0.1335 - acc: 0.9643 - val_loss: 0.1305 - val_acc: 0.9737\n",
            "Epoch 79/500\n",
            "112/112 [==============================] - 0s 113us/step - loss: 0.1334 - acc: 0.9732 - val_loss: 0.1096 - val_acc: 0.9474\n",
            "Epoch 80/500\n",
            "112/112 [==============================] - 0s 116us/step - loss: 0.1604 - acc: 0.9375 - val_loss: 0.0801 - val_acc: 1.0000\n",
            "Epoch 81/500\n",
            "112/112 [==============================] - 0s 114us/step - loss: 0.1456 - acc: 0.9554 - val_loss: 0.1239 - val_acc: 0.9737\n",
            "Epoch 82/500\n",
            "112/112 [==============================] - 0s 98us/step - loss: 0.1289 - acc: 0.9554 - val_loss: 0.1128 - val_acc: 0.9474\n",
            "Epoch 83/500\n",
            "112/112 [==============================] - 0s 102us/step - loss: 0.1282 - acc: 0.9554 - val_loss: 0.0778 - val_acc: 1.0000\n",
            "Epoch 84/500\n",
            "112/112 [==============================] - 0s 90us/step - loss: 0.1104 - acc: 0.9732 - val_loss: 0.0868 - val_acc: 0.9737\n",
            "Epoch 85/500\n",
            "112/112 [==============================] - 0s 92us/step - loss: 0.1094 - acc: 0.9732 - val_loss: 0.0851 - val_acc: 1.0000\n",
            "Epoch 86/500\n",
            "112/112 [==============================] - 0s 96us/step - loss: 0.1079 - acc: 0.9732 - val_loss: 0.0773 - val_acc: 1.0000\n",
            "Epoch 87/500\n",
            "112/112 [==============================] - 0s 94us/step - loss: 0.1056 - acc: 0.9643 - val_loss: 0.0751 - val_acc: 1.0000\n",
            "Epoch 88/500\n",
            "112/112 [==============================] - 0s 93us/step - loss: 0.1055 - acc: 0.9732 - val_loss: 0.0761 - val_acc: 1.0000\n",
            "Epoch 89/500\n",
            "112/112 [==============================] - 0s 181us/step - loss: 0.1029 - acc: 0.9732 - val_loss: 0.0785 - val_acc: 0.9737\n",
            "Epoch 90/500\n",
            "112/112 [==============================] - 0s 119us/step - loss: 0.1076 - acc: 0.9643 - val_loss: 0.0759 - val_acc: 1.0000\n",
            "Epoch 91/500\n",
            "112/112 [==============================] - 0s 126us/step - loss: 0.1094 - acc: 0.9554 - val_loss: 0.0842 - val_acc: 1.0000\n",
            "Epoch 92/500\n",
            "112/112 [==============================] - 0s 124us/step - loss: 0.0963 - acc: 0.9732 - val_loss: 0.0793 - val_acc: 0.9737\n",
            "Epoch 00092: early stopping\n"
          ],
          "name": "stdout"
        },
        {
          "output_type": "execute_result",
          "data": {
            "text/plain": [
              "<keras.callbacks.History at 0x7f543d09a1d0>"
            ]
          },
          "metadata": {
            "tags": []
          },
          "execution_count": 11
        }
      ]
    },
    {
      "cell_type": "markdown",
      "metadata": {
        "id": "Vcof-DCdVX2M",
        "colab_type": "text"
      },
      "source": [
        "# Validate the results"
      ]
    },
    {
      "cell_type": "code",
      "metadata": {
        "id": "q4NBvVTeVLnJ",
        "colab_type": "code",
        "outputId": "0bd34f83-ec7f-411d-cf3b-3f0dc1fd1411",
        "colab": {
          "base_uri": "https://localhost:8080/",
          "height": 101
        }
      },
      "source": [
        "# To see the predicted probabilty for each \n",
        "## of the 3 classes in the test group\n",
        "y_pred = model.predict(X_test)\n",
        "y_pred[:5]"
      ],
      "execution_count": 12,
      "outputs": [
        {
          "output_type": "execute_result",
          "data": {
            "text/plain": [
              "array([[3.3709523e-03, 8.8122797e-01, 1.1540113e-01],\n",
              "       [9.9661082e-01, 3.3892083e-03, 6.4445567e-11],\n",
              "       [2.7638927e-10, 2.2715336e-04, 9.9977285e-01],\n",
              "       [3.0610352e-03, 7.4114406e-01, 2.5579491e-01],\n",
              "       [1.3688048e-03, 8.5464853e-01, 1.4398260e-01]], dtype=float32)"
            ]
          },
          "metadata": {
            "tags": []
          },
          "execution_count": 12
        }
      ]
    },
    {
      "cell_type": "code",
      "metadata": {
        "id": "1HiHg_5ON4an",
        "colab_type": "code",
        "outputId": "a3b0f4a6-6dbc-46a0-eb72-afc8f7465023",
        "colab": {
          "base_uri": "https://localhost:8080/",
          "height": 50
        }
      },
      "source": [
        "# Get the indices of the class which got the highest probability for each sample\n",
        "y_pred = np.argmax(y_pred,axis=1)\n",
        "y_pred"
      ],
      "execution_count": 13,
      "outputs": [
        {
          "output_type": "execute_result",
          "data": {
            "text/plain": [
              "array([1, 0, 2, 1, 1, 0, 1, 2, 2, 1, 2, 0, 0, 0, 0, 1, 2, 1, 1, 2, 0, 2,\n",
              "       0, 2, 2, 2, 2, 2, 0, 0, 0, 0, 1, 0, 0, 2, 1, 0])"
            ]
          },
          "metadata": {
            "tags": []
          },
          "execution_count": 13
        }
      ]
    },
    {
      "cell_type": "code",
      "metadata": {
        "id": "V5m7Ea9kPIY4",
        "colab_type": "code",
        "outputId": "ac23746d-5044-4991-f607-9d48191871b5",
        "colab": {
          "base_uri": "https://localhost:8080/",
          "height": 50
        }
      },
      "source": [
        "y_actual = np.argmax(np.array(y_test),axis=1)\n",
        "y_actual"
      ],
      "execution_count": 14,
      "outputs": [
        {
          "output_type": "execute_result",
          "data": {
            "text/plain": [
              "array([1, 0, 2, 1, 1, 0, 1, 2, 1, 1, 2, 0, 0, 0, 0, 1, 2, 1, 1, 2, 0, 2,\n",
              "       0, 2, 2, 2, 2, 2, 0, 0, 0, 0, 1, 0, 0, 2, 1, 0])"
            ]
          },
          "metadata": {
            "tags": []
          },
          "execution_count": 14
        }
      ]
    },
    {
      "cell_type": "code",
      "metadata": {
        "id": "S46Ppu-PPe_b",
        "colab_type": "code",
        "colab": {}
      },
      "source": [
        "from sklearn.metrics import classification_report"
      ],
      "execution_count": 0,
      "outputs": []
    },
    {
      "cell_type": "code",
      "metadata": {
        "id": "QAVQ1s5BQabR",
        "colab_type": "code",
        "outputId": "e7ac8a91-ea6f-46c2-e9e0-9e754387ca68",
        "colab": {
          "base_uri": "https://localhost:8080/",
          "height": 185
        }
      },
      "source": [
        "print(classification_report(y_actual, y_pred,target_names=species_names))"
      ],
      "execution_count": 16,
      "outputs": [
        {
          "output_type": "stream",
          "text": [
            "              precision    recall  f1-score   support\n",
            "\n",
            "      setosa       1.00      1.00      1.00        15\n",
            "  versicolor       1.00      0.91      0.95        11\n",
            "   virginica       0.92      1.00      0.96        12\n",
            "\n",
            "    accuracy                           0.97        38\n",
            "   macro avg       0.97      0.97      0.97        38\n",
            "weighted avg       0.98      0.97      0.97        38\n",
            "\n"
          ],
          "name": "stdout"
        }
      ]
    },
    {
      "cell_type": "code",
      "metadata": {
        "id": "liEXPIddX6mo",
        "colab_type": "code",
        "outputId": "71b461c6-7945-4de0-873f-770d66f1f7f1",
        "colab": {
          "base_uri": "https://localhost:8080/",
          "height": 50
        }
      },
      "source": [
        "y_actual"
      ],
      "execution_count": 17,
      "outputs": [
        {
          "output_type": "execute_result",
          "data": {
            "text/plain": [
              "array([1, 0, 2, 1, 1, 0, 1, 2, 1, 1, 2, 0, 0, 0, 0, 1, 2, 1, 1, 2, 0, 2,\n",
              "       0, 2, 2, 2, 2, 2, 0, 0, 0, 0, 1, 0, 0, 2, 1, 0])"
            ]
          },
          "metadata": {
            "tags": []
          },
          "execution_count": 17
        }
      ]
    },
    {
      "cell_type": "code",
      "metadata": {
        "id": "JknmhtDSYDd0",
        "colab_type": "code",
        "outputId": "b0e912a2-504d-4d95-a7df-49614377fbc0",
        "colab": {
          "base_uri": "https://localhost:8080/",
          "height": 34
        }
      },
      "source": [
        "species_names"
      ],
      "execution_count": 18,
      "outputs": [
        {
          "output_type": "execute_result",
          "data": {
            "text/plain": [
              "array(['setosa', 'versicolor', 'virginica'], dtype=object)"
            ]
          },
          "metadata": {
            "tags": []
          },
          "execution_count": 18
        }
      ]
    },
    {
      "cell_type": "code",
      "metadata": {
        "id": "UecH6SuAQita",
        "colab_type": "code",
        "outputId": "053c8e0c-e658-4f91-e13f-c09586033749",
        "colab": {
          "base_uri": "https://localhost:8080/",
          "height": 67
        }
      },
      "source": [
        "from sklearn.metrics import confusion_matrix\n",
        "# cm = confusion_matrix(y_actual,y_pred)\n",
        "cm = confusion_matrix(species_names[y_actual], species_names[y_pred],species_names)\n",
        "cm"
      ],
      "execution_count": 19,
      "outputs": [
        {
          "output_type": "execute_result",
          "data": {
            "text/plain": [
              "array([[15,  0,  0],\n",
              "       [ 0, 10,  1],\n",
              "       [ 0,  0, 12]])"
            ]
          },
          "metadata": {
            "tags": []
          },
          "execution_count": 19
        }
      ]
    },
    {
      "cell_type": "code",
      "metadata": {
        "id": "njGq27_GVcIR",
        "colab_type": "code",
        "outputId": "45537a19-22ab-42db-90af-b487327cc22d",
        "colab": {
          "base_uri": "https://localhost:8080/",
          "height": 470
        }
      },
      "source": [
        "import matplotlib.pyplot as plt\n",
        "from matplotlib.pyplot import figure\n",
        "\n",
        "plt.figure(figsize=(10,7))\n",
        "sns.heatmap(cm,annot=True,xticklabels=True,yticklabels=True)\n",
        "plt.xlabel('Predicted')\n",
        "plt.ylabel('Actual')"
      ],
      "execution_count": 20,
      "outputs": [
        {
          "output_type": "execute_result",
          "data": {
            "text/plain": [
              "Text(66.5, 0.5, 'Actual')"
            ]
          },
          "metadata": {
            "tags": []
          },
          "execution_count": 20
        },
        {
          "output_type": "display_data",
          "data": {
            "image/png": "[encoded data removed]",
            "text/plain": [
              "<Figure size 720x504 with 2 Axes>"
            ]
          },
          "metadata": {
            "tags": []
          }
        }
      ]
    },
    {
      "cell_type": "code",
      "metadata": {
        "id": "oGJbRmqRbX8q",
        "colab_type": "code",
        "colab": {}
      },
      "source": [
        "# https://gist.github.com/hitvoice/36cf44689065ca9b927431546381a3f7\n",
        "\n",
        "def cm_analysis(y_true, y_pred, filename, labels, ymap=None, figsize=(10,10)):\n",
        "    \"\"\"\n",
        "    Generate matrix plot of confusion matrix with pretty annotations.\n",
        "    The plot image is saved to disk.\n",
        "    args: \n",
        "      y_true:    true label of the data, with shape (nsamples,)\n",
        "      y_pred:    prediction of the data, with shape (nsamples,)\n",
        "      filename:  filename of figure file to save\n",
        "      labels:    string array, name the order of class labels in the confusion matrix.\n",
        "                 use `clf.classes_` if using scikit-learn models.\n",
        "                 with shape (nclass,).\n",
        "      ymap:      dict: any -> string, length == nclass.\n",
        "                 if not None, map the labels & ys to more understandable strings.\n",
        "                 Caution: original y_true, y_pred and labels must align.\n",
        "      figsize:   the size of the figure plotted.\n",
        "    \"\"\"\n",
        "    if ymap is not None:\n",
        "        y_pred = [ymap[yi] for yi in y_pred]\n",
        "        y_true = [ymap[yi] for yi in y_true]\n",
        "        labels = [ymap[yi] for yi in labels]\n",
        "    cm = confusion_matrix(y_true, y_pred, labels=labels)\n",
        "    cm_sum = np.sum(cm, axis=1, keepdims=True)\n",
        "    cm_perc = cm / cm_sum.astype(float) * 100\n",
        "    annot = np.empty_like(cm).astype(str)\n",
        "    nrows, ncols = cm.shape\n",
        "    for i in range(nrows):\n",
        "        for j in range(ncols):\n",
        "            c = cm[i, j]\n",
        "            p = cm_perc[i, j]\n",
        "            if i == j:\n",
        "                s = cm_sum[i]\n",
        "                annot[i, j] = '%.1f%%\\n%d/%d' % (p, c, s)\n",
        "            elif c == 0:\n",
        "                annot[i, j] = ''\n",
        "            else:\n",
        "                annot[i, j] = '%.1f%%\\n%d' % (p, c)\n",
        "    cm = pd.DataFrame(cm, index=labels, columns=labels)\n",
        "    cm.index.name = 'Actual'\n",
        "    cm.columns.name = 'Predicted'\n",
        "    fig, ax = plt.subplots(figsize=figsize)\n",
        "    sns.heatmap(cm, annot=annot, fmt='', ax=ax)\n",
        "    plt.savefig(filename)"
      ],
      "execution_count": 0,
      "outputs": []
    },
    {
      "cell_type": "code",
      "metadata": {
        "id": "ODEQ9FcQbngP",
        "colab_type": "code",
        "outputId": "91ad706d-b687-4200-8fc8-01881efa2041",
        "colab": {
          "base_uri": "https://localhost:8080/",
          "height": 634
        }
      },
      "source": [
        "cm_analysis(y_actual, y_pred, 'figur1', [0,1,2], ymap={0:'setosa',1:'versicolor',2:'virginica'})\n",
        "species_names"
      ],
      "execution_count": 23,
      "outputs": [
        {
          "output_type": "execute_result",
          "data": {
            "text/plain": [
              "array(['setosa', 'versicolor', 'virginica'], dtype=object)"
            ]
          },
          "metadata": {
            "tags": []
          },
          "execution_count": 23
        },
        {
          "output_type": "display_data",
          "data": {
            "image/png": "[encoded data removed]",
            "text/plain": [
              "<Figure size 720x720 with 2 Axes>"
            ]
          },
          "metadata": {
            "tags": []
          }
        }
      ]
    },
    {
      "cell_type": "markdown",
      "metadata": {
        "id": "jC9mIv3gVHPe",
        "colab_type": "text"
      },
      "source": [
        "The model was able to correctly classify almost all of the samples in the test group. Not a simple task given the small number of samples and the fact that 2 of the species are indistinguishable to us as humans."
      ]
    }
  ]
}